{
 "cells": [
  {
   "cell_type": "code",
   "execution_count": 18,
   "metadata": {},
   "outputs": [
    {
     "ename": "IndentationError",
     "evalue": "expected an indented block (<ipython-input-18-229f91b33f78>, line 40)",
     "output_type": "error",
     "traceback": [
      "\u001b[0;36m  File \u001b[0;32m\"<ipython-input-18-229f91b33f78>\"\u001b[0;36m, line \u001b[0;32m40\u001b[0m\n\u001b[0;31m    for gen in range(0,generations):\u001b[0m\n\u001b[0m                                    ^\u001b[0m\n\u001b[0;31mIndentationError\u001b[0m\u001b[0;31m:\u001b[0m expected an indented block\n"
     ]
    }
   ],
   "source": [
    "# maximize sum(xi*wi from (i=1 to i=6))\n",
    "# the sets of weights are given. and  xi are elements of [-4,4]\n",
    "# w represents thee weights\n",
    "import numpy as np\n",
    "N_WEIGHTS = 6\n",
    "POP_SIZE = 10\n",
    "DOFS_IN_POP = (POP_SIZE, N_WEIGHTS)\n",
    "generations = 20\n",
    "w = np.array([6,8,-6,3,3,-4])\n",
    "NUM_IN_BEST = 4\n",
    "NUM_CHILDREN = 3\n",
    "bestPops = np.array([None]*NUM_IN_BEST)\n",
    "# pc = rate of recombination\n",
    "# \n",
    "pc = .9\n",
    "def calc_fitness(population):\n",
    "    fitness = population @ w\n",
    "    return fitness\n",
    "def getStochBest(fitnesses):\n",
    "    idx = np.artsort(t_fitness)\n",
    "    \n",
    "    r_i = 1; # look at notes\n",
    "\n",
    "#need pc rate of recombination,\n",
    "# is there alimit in number of offsprinig \n",
    "# what type of crossover\n",
    "def recombination( bestParents):\n",
    "    children = np.empty(NUM_CHILDREN, N_WEIGHTS)\n",
    "    for k in range(0,children):\n",
    "        pl_idx = k%N_MATING\n",
    "        \n",
    "        p2_idx = (k+1)%N_MATING\n",
    "        \n",
    "        children[k,:IDX_CORSSOVER]\n",
    "        \n",
    "#mutate random parts of vectors\n",
    "def mutation(offspring):\n",
    "    for child in offspring:\n",
    "        child[np.random.rand(low=0,high=len(child))] += LEARNING_RATE\n",
    "        \n",
    "\n",
    "for gen in range(0,generations):\n",
    "    curr_population = np.random.uniform(low = -4., high = 4., size = DOFS_IN_POP)\n",
    "    fitnesses = calc_fitness(curr_population)\n",
    "    index = np.argsort(fitnesses)\n",
    "    for i in range(0,NUM_IN_BEST):\n",
    "        #[index[-1-i]] is the index of the populations with the best fitness\n",
    "        bestPops[i] = curr_population[index[-1-i]]\n",
    "    print(bestPops)\n",
    "    print(bestPops.shape)\n",
    "    \n",
    "    \n",
    "        \n",
    "        \n"
   ]
  },
  {
   "cell_type": "code",
   "execution_count": null,
   "metadata": {},
   "outputs": [],
   "source": []
  },
  {
   "cell_type": "code",
   "execution_count": null,
   "metadata": {},
   "outputs": [],
   "source": []
  },
  {
   "cell_type": "code",
   "execution_count": null,
   "metadata": {},
   "outputs": [],
   "source": []
  }
 ],
 "metadata": {
  "kernelspec": {
   "display_name": "Python 3",
   "language": "python",
   "name": "python3"
  },
  "language_info": {
   "codemirror_mode": {
    "name": "ipython",
    "version": 3
   },
   "file_extension": ".py",
   "mimetype": "text/x-python",
   "name": "python",
   "nbconvert_exporter": "python",
   "pygments_lexer": "ipython3",
   "version": "3.6.7"
  }
 },
 "nbformat": 4,
 "nbformat_minor": 2
}
