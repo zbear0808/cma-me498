{
 "cells": [
  {
   "cell_type": "code",
   "execution_count": 43,
   "metadata": {},
   "outputs": [
    {
     "name": "stdout",
     "output_type": "stream",
     "text": [
      "(2, 4)\n",
      "[ 0.   0.1  0.2  0.3  0.4  0.5  0.6  0.7  0.8  0.9  1.   1.1  1.2  1.3\n",
      "  1.4  1.5  1.6  1.7  1.8  1.9  2.   2.1  2.2  2.3  2.4  2.5  2.6  2.7\n",
      "  2.8  2.9  3.   3.1  3.2  3.3  3.4  3.5  3.6  3.7  3.8  3.9  4.   4.1\n",
      "  4.2  4.3  4.4  4.5  4.6  4.7  4.8  4.9  5.   5.1  5.2  5.3  5.4  5.5\n",
      "  5.6  5.7  5.8  5.9  6.   6.1  6.2  6.3  6.4  6.5  6.6  6.7  6.8  6.9\n",
      "  7.   7.1  7.2  7.3  7.4  7.5  7.6  7.7  7.8  7.9  8.   8.1  8.2  8.3\n",
      "  8.4  8.5  8.6  8.7  8.8  8.9  9.   9.1  9.2  9.3  9.4  9.5  9.6  9.7\n",
      "  9.8  9.9 10.  10.1 10.2 10.3 10.4 10.5 10.6 10.7 10.8 10.9]\n",
      "[ 0.          1.22222222  2.44444444  3.66666667  4.88888889  6.11111111\n",
      "  7.33333333  8.55555556  9.77777778 11.        ]\n",
      "[[1. 0. 0. 0. 0.]\n",
      " [0. 1. 0. 0. 0.]\n",
      " [0. 0. 1. 0. 0.]\n",
      " [0. 0. 0. 1. 0.]\n",
      " [0. 0. 0. 0. 1.]]\n",
      "[[ 1.11187622 -0.31253471 -2.46821738]\n",
      " [-0.99494958 -0.8076449   1.52304021]\n",
      " [ 1.41373621 -1.63104856  0.14230732]]\n",
      "[ 1.11187622 -0.31253471 -2.46821738 -0.99494958 -0.8076449   1.52304021\n",
      "  1.41373621 -1.63104856  0.14230732]\n"
     ]
    }
   ],
   "source": [
    "import numpy as np\n",
    "a = np.array([[2,3,4,6],[1,2,3,4]])\n",
    "print(np.shape(a))\n",
    "b = np.arange(0,11,0.1)\n",
    "print(b)\n",
    "c = np.linspace(0,11,10)# insead of step 10  = number of elements\n",
    "print(c)\n",
    "a = np.eye(5) # \n",
    "print(a)\n",
    "a = np.random.rand(3,3) # random num between 0 and 1, like java\n",
    "a = np.random.randn(3,3) # random num generated from normal distribution\n",
    "\n",
    "print(a)\n",
    "b = np.reshape(a,(9,)) #EQUIVALENT  b = np.reshape(a,(-1,))\n",
    "print(b)\n",
    "transposed = a.T\n"
   ]
  },
  {
   "cell_type": "code",
   "execution_count": 25,
   "metadata": {},
   "outputs": [
    {
     "name": "stdout",
     "output_type": "stream",
     "text": [
      "\n"
     ]
    }
   ],
   "source": [
    "print()"
   ]
  },
  {
   "cell_type": "code",
   "execution_count": null,
   "metadata": {},
   "outputs": [],
   "source": []
  }
 ],
 "metadata": {
  "kernelspec": {
   "display_name": "Python 3",
   "language": "python",
   "name": "python3"
  },
  "language_info": {
   "codemirror_mode": {
    "name": "ipython",
    "version": 3
   },
   "file_extension": ".py",
   "mimetype": "text/x-python",
   "name": "python",
   "nbconvert_exporter": "python",
   "pygments_lexer": "ipython3",
   "version": "3.6.7"
  }
 },
 "nbformat": 4,
 "nbformat_minor": 2
}
